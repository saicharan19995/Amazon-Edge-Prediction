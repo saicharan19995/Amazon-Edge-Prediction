{
 "cells": [
  {
   "cell_type": "code",
   "execution_count": 1,
   "id": "09abc7bb",
   "metadata": {},
   "outputs": [],
   "source": [
    "import pandas as pd\n",
    "amazon_csv = pd.read_csv(\"ratings.csv\")"
   ]
  },
  {
   "cell_type": "code",
   "execution_count": 68,
   "id": "679e9132",
   "metadata": {},
   "outputs": [
    {
     "name": "stdout",
     "output_type": "stream",
     "text": [
      "StellarGraph: Undirected multigraph\n",
      " Nodes: 4677698, Edges: 7824482\n",
      "\n",
      " Node types:\n",
      "  default: [4677698]\n",
      "    Features: none\n",
      "    Edge types: default-default->default\n",
      "\n",
      " Edge types:\n",
      "    default-default->default: [7824482]\n",
      "        Weights: range=[1, 5], mean=4.01234, std=1.38091\n",
      "        Features: float32 vector, length 1\n"
     ]
    }
   ],
   "source": [
    "G = StellarGraph(edges=amazon_csv, source_column='UserId', target_column='ProudctId',edge_weight_column='Rating')\n",
    "print(G.info())"
   ]
  },
  {
   "cell_type": "code",
   "execution_count": 2,
   "id": "f222b1ea",
   "metadata": {},
   "outputs": [
    {
     "name": "stderr",
     "output_type": "stream",
     "text": [
      "2023-05-05 12:28:41.272025: I tensorflow/core/platform/cpu_feature_guard.cc:182] This TensorFlow binary is optimized to use available CPU instructions in performance-critical operations.\n",
      "To enable the following instructions: AVX2 FMA, in other operations, rebuild TensorFlow with the appropriate compiler flags.\n"
     ]
    }
   ],
   "source": [
    "import stellargraph as sg\n",
    "from stellargraph.data import EdgeSplitter\n",
    "from stellargraph.mapper import GraphSAGELinkGenerator,GraphSAGENodeGenerator\n",
    "from stellargraph.layer import GraphSAGE, link_classification\n",
    "from stellargraph.core.graph import StellarGraph\n",
    "from stellargraph.mapper import FullBatchLinkGenerator\n",
    "from stellargraph.layer import GCN, LinkEmbedding\n",
    "import networkx as nx\n",
    "from tensorflow import keras"
   ]
  },
  {
   "cell_type": "code",
   "execution_count": 3,
   "id": "96ea2458",
   "metadata": {},
   "outputs": [
    {
     "name": "stdout",
     "output_type": "stream",
     "text": [
      "StellarGraph: Undirected multigraph\n",
      " Nodes: 31158, Edges: 30000\n",
      "\n",
      " Node types:\n",
      "  default: [31158]\n",
      "    Features: none\n",
      "    Edge types: default-default->default\n",
      "\n",
      " Edge types:\n",
      "    default-default->default: [30000]\n",
      "        Weights: range=[1, 5], mean=4.01353, std=1.37684\n",
      "        Features: float32 vector, length 1\n"
     ]
    }
   ],
   "source": [
    "edges_considered = 30000\n",
    "amazon_csv = amazon_csv[:edges_considered]\n",
    "G = StellarGraph(edges=amazon_csv, source_column='UserId', target_column='ProudctId',edge_weight_column='Rating')\n",
    "print(G.info())"
   ]
  },
  {
   "cell_type": "code",
   "execution_count": 4,
   "id": "26fbf05b",
   "metadata": {},
   "outputs": [],
   "source": [
    "edges = G.edges()"
   ]
  },
  {
   "cell_type": "code",
   "execution_count": 5,
   "id": "bb6c6eb0",
   "metadata": {},
   "outputs": [],
   "source": [
    "degree = G.node_degrees()"
   ]
  },
  {
   "cell_type": "code",
   "execution_count": 6,
   "id": "8fd5c540",
   "metadata": {},
   "outputs": [],
   "source": [
    "bc = nx.betweenness_centrality(G.to_networkx())"
   ]
  },
  {
   "cell_type": "code",
   "execution_count": 7,
   "id": "14a9a01d",
   "metadata": {},
   "outputs": [
    {
     "data": {
      "text/html": [
       "<div>\n",
       "<style scoped>\n",
       "    .dataframe tbody tr th:only-of-type {\n",
       "        vertical-align: middle;\n",
       "    }\n",
       "\n",
       "    .dataframe tbody tr th {\n",
       "        vertical-align: top;\n",
       "    }\n",
       "\n",
       "    .dataframe thead th {\n",
       "        text-align: right;\n",
       "    }\n",
       "</style>\n",
       "<table border=\"1\" class=\"dataframe\">\n",
       "  <thead>\n",
       "    <tr style=\"text-align: right;\">\n",
       "      <th></th>\n",
       "      <th>x</th>\n",
       "      <th>y</th>\n",
       "    </tr>\n",
       "  </thead>\n",
       "  <tbody>\n",
       "    <tr>\n",
       "      <th>AKM1MP6P0OYPR</th>\n",
       "      <td>1</td>\n",
       "      <td>0.000000e+00</td>\n",
       "    </tr>\n",
       "    <tr>\n",
       "      <th>A2CX7LUOHB2NDG</th>\n",
       "      <td>1</td>\n",
       "      <td>0.000000e+00</td>\n",
       "    </tr>\n",
       "    <tr>\n",
       "      <th>A2NWSAGRHCP8N5</th>\n",
       "      <td>1</td>\n",
       "      <td>0.000000e+00</td>\n",
       "    </tr>\n",
       "    <tr>\n",
       "      <th>A2WNBOD3WNDNKT</th>\n",
       "      <td>1</td>\n",
       "      <td>0.000000e+00</td>\n",
       "    </tr>\n",
       "    <tr>\n",
       "      <th>A1GI0U4ZRJA8WN</th>\n",
       "      <td>1</td>\n",
       "      <td>0.000000e+00</td>\n",
       "    </tr>\n",
       "    <tr>\n",
       "      <th>...</th>\n",
       "      <td>...</td>\n",
       "      <td>...</td>\n",
       "    </tr>\n",
       "    <tr>\n",
       "      <th>B0000225D3</th>\n",
       "      <td>4</td>\n",
       "      <td>1.236186e-08</td>\n",
       "    </tr>\n",
       "    <tr>\n",
       "      <th>B0000226IH</th>\n",
       "      <td>37</td>\n",
       "      <td>1.765391e-03</td>\n",
       "    </tr>\n",
       "    <tr>\n",
       "      <th>B0000226L0</th>\n",
       "      <td>24</td>\n",
       "      <td>2.776427e-03</td>\n",
       "    </tr>\n",
       "    <tr>\n",
       "      <th>B0000226QJ</th>\n",
       "      <td>25</td>\n",
       "      <td>1.227768e-03</td>\n",
       "    </tr>\n",
       "    <tr>\n",
       "      <th>B0000228GF</th>\n",
       "      <td>51</td>\n",
       "      <td>3.808962e-03</td>\n",
       "    </tr>\n",
       "  </tbody>\n",
       "</table>\n",
       "<p>31158 rows × 2 columns</p>\n",
       "</div>"
      ],
      "text/plain": [
       "                 x             y\n",
       "AKM1MP6P0OYPR    1  0.000000e+00\n",
       "A2CX7LUOHB2NDG   1  0.000000e+00\n",
       "A2NWSAGRHCP8N5   1  0.000000e+00\n",
       "A2WNBOD3WNDNKT   1  0.000000e+00\n",
       "A1GI0U4ZRJA8WN   1  0.000000e+00\n",
       "...             ..           ...\n",
       "B0000225D3       4  1.236186e-08\n",
       "B0000226IH      37  1.765391e-03\n",
       "B0000226L0      24  2.776427e-03\n",
       "B0000226QJ      25  1.227768e-03\n",
       "B0000228GF      51  3.808962e-03\n",
       "\n",
       "[31158 rows x 2 columns]"
      ]
     },
     "execution_count": 7,
     "metadata": {},
     "output_type": "execute_result"
    }
   ],
   "source": [
    "node_data = pd.DataFrame(\n",
    "    {\"x\": list(degree.values()),\"y\": list(bc.values())}, index=list(degree.keys())\n",
    ")\n",
    "node_data"
   ]
  },
  {
   "cell_type": "code",
   "execution_count": 40,
   "id": "3e7b93a2",
   "metadata": {},
   "outputs": [
    {
     "data": {
      "text/plain": [
       "array([0.00000000e+00, 4.92084549e-05, 1.96809096e-04, ...,\n",
       "       2.77642658e-03, 1.22776821e-03, 3.80896152e-03])"
      ]
     },
     "execution_count": 40,
     "metadata": {},
     "output_type": "execute_result"
    }
   ],
   "source": [
    "node_data.y.unique()"
   ]
  },
  {
   "cell_type": "code",
   "execution_count": 8,
   "id": "6631e7ef",
   "metadata": {},
   "outputs": [
    {
     "data": {
      "text/html": [
       "<div>\n",
       "<style scoped>\n",
       "    .dataframe tbody tr th:only-of-type {\n",
       "        vertical-align: middle;\n",
       "    }\n",
       "\n",
       "    .dataframe tbody tr th {\n",
       "        vertical-align: top;\n",
       "    }\n",
       "\n",
       "    .dataframe thead th {\n",
       "        text-align: right;\n",
       "    }\n",
       "</style>\n",
       "<table border=\"1\" class=\"dataframe\">\n",
       "  <thead>\n",
       "    <tr style=\"text-align: right;\">\n",
       "      <th></th>\n",
       "      <th>source</th>\n",
       "      <th>target</th>\n",
       "      <th>weight</th>\n",
       "    </tr>\n",
       "  </thead>\n",
       "  <tbody>\n",
       "    <tr>\n",
       "      <th>0</th>\n",
       "      <td>AKM1MP6P0OYPR</td>\n",
       "      <td>0132793040</td>\n",
       "      <td>5.0</td>\n",
       "    </tr>\n",
       "    <tr>\n",
       "      <th>1</th>\n",
       "      <td>A2CX7LUOHB2NDG</td>\n",
       "      <td>0321732944</td>\n",
       "      <td>5.0</td>\n",
       "    </tr>\n",
       "    <tr>\n",
       "      <th>2</th>\n",
       "      <td>A2NWSAGRHCP8N5</td>\n",
       "      <td>0439886341</td>\n",
       "      <td>1.0</td>\n",
       "    </tr>\n",
       "    <tr>\n",
       "      <th>3</th>\n",
       "      <td>A2WNBOD3WNDNKT</td>\n",
       "      <td>0439886341</td>\n",
       "      <td>3.0</td>\n",
       "    </tr>\n",
       "    <tr>\n",
       "      <th>4</th>\n",
       "      <td>A1GI0U4ZRJA8WN</td>\n",
       "      <td>0439886341</td>\n",
       "      <td>1.0</td>\n",
       "    </tr>\n",
       "    <tr>\n",
       "      <th>...</th>\n",
       "      <td>...</td>\n",
       "      <td>...</td>\n",
       "      <td>...</td>\n",
       "    </tr>\n",
       "    <tr>\n",
       "      <th>29995</th>\n",
       "      <td>A302YSZ4HDV323</td>\n",
       "      <td>B0000228GF</td>\n",
       "      <td>5.0</td>\n",
       "    </tr>\n",
       "    <tr>\n",
       "      <th>29996</th>\n",
       "      <td>A3RDA76TLQAW11</td>\n",
       "      <td>B0000228GF</td>\n",
       "      <td>4.0</td>\n",
       "    </tr>\n",
       "    <tr>\n",
       "      <th>29997</th>\n",
       "      <td>ADRO6G1D3RJCG</td>\n",
       "      <td>B0000228GF</td>\n",
       "      <td>5.0</td>\n",
       "    </tr>\n",
       "    <tr>\n",
       "      <th>29998</th>\n",
       "      <td>A38OVSLH125IAX</td>\n",
       "      <td>B0000228GF</td>\n",
       "      <td>2.0</td>\n",
       "    </tr>\n",
       "    <tr>\n",
       "      <th>29999</th>\n",
       "      <td>ADWMLYO1EGSFR</td>\n",
       "      <td>B0000228GF</td>\n",
       "      <td>5.0</td>\n",
       "    </tr>\n",
       "  </tbody>\n",
       "</table>\n",
       "<p>30000 rows × 3 columns</p>\n",
       "</div>"
      ],
      "text/plain": [
       "               source      target  weight\n",
       "0       AKM1MP6P0OYPR  0132793040     5.0\n",
       "1      A2CX7LUOHB2NDG  0321732944     5.0\n",
       "2      A2NWSAGRHCP8N5  0439886341     1.0\n",
       "3      A2WNBOD3WNDNKT  0439886341     3.0\n",
       "4      A1GI0U4ZRJA8WN  0439886341     1.0\n",
       "...               ...         ...     ...\n",
       "29995  A302YSZ4HDV323  B0000228GF     5.0\n",
       "29996  A3RDA76TLQAW11  B0000228GF     4.0\n",
       "29997   ADRO6G1D3RJCG  B0000228GF     5.0\n",
       "29998  A38OVSLH125IAX  B0000228GF     2.0\n",
       "29999   ADWMLYO1EGSFR  B0000228GF     5.0\n",
       "\n",
       "[30000 rows x 3 columns]"
      ]
     },
     "execution_count": 8,
     "metadata": {},
     "output_type": "execute_result"
    }
   ],
   "source": [
    "edges_data = pd.DataFrame(\n",
    "    {\"source\": amazon_csv[\"UserId\"], \"target\": amazon_csv[\"ProudctId\"],\"weight\": amazon_csv[\"Rating\"]}\n",
    ")\n",
    "edges_data"
   ]
  },
  {
   "cell_type": "code",
   "execution_count": 41,
   "id": "5d972dc9",
   "metadata": {},
   "outputs": [
    {
     "name": "stdout",
     "output_type": "stream",
     "text": [
      "StellarGraph: Undirected multigraph\n",
      " Nodes: 31158, Edges: 30000\n",
      "\n",
      " Node types:\n",
      "  default: [31158]\n",
      "    Features: float32 vector, length 2\n",
      "    Edge types: default-default->default\n",
      "\n",
      " Edge types:\n",
      "    default-default->default: [30000]\n",
      "        Weights: range=[1, 5], mean=4.01353, std=1.37684\n",
      "        Features: none\n"
     ]
    }
   ],
   "source": [
    "G = StellarGraph(node_data, edges_data)\n",
    "print(G.info())"
   ]
  },
  {
   "cell_type": "code",
   "execution_count": 42,
   "id": "26010107",
   "metadata": {},
   "outputs": [
    {
     "name": "stdout",
     "output_type": "stream",
     "text": [
      "** Sampled 24000 positive and 24000 negative edges. **\n"
     ]
    }
   ],
   "source": [
    "# Define an edge splitter on the original graph G:\n",
    "edge_splitter_test = EdgeSplitter(G)\n",
    "\n",
    "# Randomly sample a fraction p=0.8 of all positive links, and same number of negative links, from G, and obtain the\n",
    "# reduced graph G_test with the sampled links removed:\n",
    "G_test, edge_ids_test, edge_labels_test = edge_splitter_test.train_test_split(\n",
    "    p=0.8, method=\"global\")"
   ]
  },
  {
   "cell_type": "code",
   "execution_count": 43,
   "id": "d517c4d2",
   "metadata": {},
   "outputs": [
    {
     "name": "stdout",
     "output_type": "stream",
     "text": [
      "** Sampled 1200 positive and 1200 negative edges. **\n"
     ]
    }
   ],
   "source": [
    "# Define an edge splitter on the reduced graph G_test:\n",
    "edge_splitter_train = EdgeSplitter(G_test)\n",
    "\n",
    "# Randomly sample a fraction p=0.2 of all positive links, and same number of negative links, from G_test, and obtain the\n",
    "# reduced graph G_train with the sampled links removed:\n",
    "G_train, edge_ids_train, edge_labels_train = edge_splitter_train.train_test_split(\n",
    "    p=0.2, method=\"global\")"
   ]
  },
  {
   "cell_type": "code",
   "execution_count": 44,
   "id": "0c93bb61",
   "metadata": {},
   "outputs": [
    {
     "name": "stdout",
     "output_type": "stream",
     "text": [
      "StellarGraph: Undirected multigraph\n",
      " Nodes: 31158, Edges: 4800\n",
      "\n",
      " Node types:\n",
      "  default: [31158]\n",
      "    Features: float32 vector, length 2\n",
      "    Edge types: default-default->default\n",
      "\n",
      " Edge types:\n",
      "    default-default->default: [4800]\n",
      "        Weights: range=[1, 5], mean=3.98708, std=1.38768\n",
      "        Features: none\n"
     ]
    }
   ],
   "source": [
    "print(G_train.info())"
   ]
  },
  {
   "cell_type": "code",
   "execution_count": 45,
   "id": "c793f9c8",
   "metadata": {},
   "outputs": [
    {
     "name": "stdout",
     "output_type": "stream",
     "text": [
      "StellarGraph: Undirected multigraph\n",
      " Nodes: 31158, Edges: 6000\n",
      "\n",
      " Node types:\n",
      "  default: [31158]\n",
      "    Features: float32 vector, length 2\n",
      "    Edge types: default-default->default\n",
      "\n",
      " Edge types:\n",
      "    default-default->default: [6000]\n",
      "        Weights: range=[1, 5], mean=4.00133, std=1.38287\n",
      "        Features: none\n"
     ]
    }
   ],
   "source": [
    "print(G_test.info())"
   ]
  },
  {
   "cell_type": "code",
   "execution_count": 46,
   "id": "27a22b33",
   "metadata": {},
   "outputs": [],
   "source": [
    "batch_size = 20\n",
    "epochs = 20"
   ]
  },
  {
   "cell_type": "code",
   "execution_count": 47,
   "id": "50063316",
   "metadata": {},
   "outputs": [],
   "source": [
    "#A list of integers that are the number of neighbours to sample at each hop.\n",
    "num_samples = [20, 10]"
   ]
  },
  {
   "cell_type": "code",
   "execution_count": 48,
   "id": "905ac62a",
   "metadata": {},
   "outputs": [],
   "source": [
    "train_gen = GraphSAGELinkGenerator(G_train, batch_size, num_samples)\n",
    "train_flow = train_gen.flow(edge_ids_train, edge_labels_train, shuffle=True)"
   ]
  },
  {
   "cell_type": "code",
   "execution_count": 49,
   "id": "516a476f",
   "metadata": {},
   "outputs": [],
   "source": [
    "test_gen = GraphSAGELinkGenerator(G_test, batch_size, num_samples)\n",
    "test_flow = test_gen.flow(edge_ids_test, edge_labels_test)"
   ]
  },
  {
   "cell_type": "code",
   "execution_count": 50,
   "id": "6beff396",
   "metadata": {},
   "outputs": [],
   "source": [
    "#Defines the number of hops (layers) in the GraphSAGE encoder.\n",
    "layer_sizes = [20, 20]\n",
    "graphsage = GraphSAGE(\n",
    "    layer_sizes=layer_sizes, generator=train_gen, bias=True, dropout=0.3\n",
    ")"
   ]
  },
  {
   "cell_type": "code",
   "execution_count": 51,
   "id": "4345d612",
   "metadata": {},
   "outputs": [
    {
     "name": "stderr",
     "output_type": "stream",
     "text": [
      "/Users/saicharan/PycharmProjects/CS286/venv/lib/python3.8/site-packages/keras/initializers/initializers.py:120: UserWarning: The initializer GlorotUniform is unseeded and being called multiple times, which will return identical values each time (even if the initializer is unseeded). Please update your code to provide a seed to the initializer, or avoid using the same initalizer instance more than once.\n",
      "  warnings.warn(\n"
     ]
    }
   ],
   "source": [
    "# Build the model and expose input and output sockets of graphsage model\n",
    "# for link prediction\n",
    "x_inp, x_out = graphsage.in_out_tensors()"
   ]
  },
  {
   "cell_type": "code",
   "execution_count": 52,
   "id": "3c65c512",
   "metadata": {},
   "outputs": [
    {
     "name": "stdout",
     "output_type": "stream",
     "text": [
      "link_classification: using 'ip' method to combine node embeddings into edge embeddings\n"
     ]
    }
   ],
   "source": [
    "x = link_classification(\n",
    "    output_dim=1, output_act=\"relu\", edge_embedding_method=\"ip\"\n",
    ")(x_out)"
   ]
  },
  {
   "cell_type": "code",
   "execution_count": 53,
   "id": "81282f8f",
   "metadata": {},
   "outputs": [],
   "source": [
    "# Define the first hidden layer\n",
    "x = keras.layers.Dense(units=20, activation=\"relu\")(x)\n",
    "\n",
    "# Define additional hidden layers\n",
    "x = keras.layers.Dense(units=32, activation=\"relu\")(x)\n",
    "x = keras.layers.Dense(units=16, activation=\"relu\")(x)\n",
    "\n",
    "# Define the output layer\n",
    "prediction = keras.layers.Dense(units=1, activation=\"sigmoid\")(x)"
   ]
  },
  {
   "cell_type": "code",
   "execution_count": 54,
   "id": "8d5fe4ee",
   "metadata": {},
   "outputs": [],
   "source": [
    "# Define the model\n",
    "model = keras.Model(inputs=x_inp, outputs=prediction)\n",
    "\n",
    "model.compile(\n",
    "    optimizer=keras.optimizers.Adam(learning_rate=1e-3),\n",
    "    loss=keras.losses.binary_crossentropy,\n",
    "    metrics=[\"acc\"],\n",
    ")"
   ]
  },
  {
   "cell_type": "code",
   "execution_count": 55,
   "id": "1452a068",
   "metadata": {},
   "outputs": [
    {
     "name": "stdout",
     "output_type": "stream",
     "text": [
      "Model: \"model_1\"\n",
      "__________________________________________________________________________________________________\n",
      " Layer (type)                   Output Shape         Param #     Connected to                     \n",
      "==================================================================================================\n",
      " input_8 (InputLayer)           [(None, 20, 2)]      0           []                               \n",
      "                                                                                                  \n",
      " input_9 (InputLayer)           [(None, 200, 2)]     0           []                               \n",
      "                                                                                                  \n",
      " input_11 (InputLayer)          [(None, 20, 2)]      0           []                               \n",
      "                                                                                                  \n",
      " input_12 (InputLayer)          [(None, 200, 2)]     0           []                               \n",
      "                                                                                                  \n",
      " input_7 (InputLayer)           [(None, 1, 2)]       0           []                               \n",
      "                                                                                                  \n",
      " reshape_9 (Reshape)            (None, 1, 20, 2)     0           ['input_8[0][0]']                \n",
      "                                                                                                  \n",
      " reshape_10 (Reshape)           (None, 20, 10, 2)    0           ['input_9[0][0]']                \n",
      "                                                                                                  \n",
      " input_10 (InputLayer)          [(None, 1, 2)]       0           []                               \n",
      "                                                                                                  \n",
      " reshape_13 (Reshape)           (None, 1, 20, 2)     0           ['input_11[0][0]']               \n",
      "                                                                                                  \n",
      " reshape_14 (Reshape)           (None, 20, 10, 2)    0           ['input_12[0][0]']               \n",
      "                                                                                                  \n",
      " dropout_13 (Dropout)           (None, 1, 2)         0           ['input_7[0][0]']                \n",
      "                                                                                                  \n",
      " dropout_12 (Dropout)           (None, 1, 20, 2)     0           ['reshape_9[0][0]']              \n",
      "                                                                                                  \n",
      " dropout_15 (Dropout)           (None, 20, 2)        0           ['input_8[0][0]']                \n",
      "                                                                                                  \n",
      " dropout_14 (Dropout)           (None, 20, 10, 2)    0           ['reshape_10[0][0]']             \n",
      "                                                                                                  \n",
      " dropout_19 (Dropout)           (None, 1, 2)         0           ['input_10[0][0]']               \n",
      "                                                                                                  \n",
      " dropout_18 (Dropout)           (None, 1, 20, 2)     0           ['reshape_13[0][0]']             \n",
      "                                                                                                  \n",
      " dropout_21 (Dropout)           (None, 20, 2)        0           ['input_11[0][0]']               \n",
      "                                                                                                  \n",
      " dropout_20 (Dropout)           (None, 20, 10, 2)    0           ['reshape_14[0][0]']             \n",
      "                                                                                                  \n",
      " mean_aggregator_2 (MeanAggrega  multiple            60          ['dropout_13[0][0]',             \n",
      " tor)                                                             'dropout_12[0][0]',             \n",
      "                                                                  'dropout_15[0][0]',             \n",
      "                                                                  'dropout_14[0][0]',             \n",
      "                                                                  'dropout_19[0][0]',             \n",
      "                                                                  'dropout_18[0][0]',             \n",
      "                                                                  'dropout_21[0][0]',             \n",
      "                                                                  'dropout_20[0][0]']             \n",
      "                                                                                                  \n",
      " reshape_11 (Reshape)           (None, 1, 20, 20)    0           ['mean_aggregator_2[1][0]']      \n",
      "                                                                                                  \n",
      " reshape_15 (Reshape)           (None, 1, 20, 20)    0           ['mean_aggregator_2[3][0]']      \n",
      "                                                                                                  \n",
      " dropout_17 (Dropout)           (None, 1, 20)        0           ['mean_aggregator_2[0][0]']      \n",
      "                                                                                                  \n",
      " dropout_16 (Dropout)           (None, 1, 20, 20)    0           ['reshape_11[0][0]']             \n",
      "                                                                                                  \n",
      " dropout_23 (Dropout)           (None, 1, 20)        0           ['mean_aggregator_2[2][0]']      \n",
      "                                                                                                  \n",
      " dropout_22 (Dropout)           (None, 1, 20, 20)    0           ['reshape_15[0][0]']             \n",
      "                                                                                                  \n",
      " mean_aggregator_3 (MeanAggrega  (None, 1, 20)       420         ['dropout_17[0][0]',             \n",
      " tor)                                                             'dropout_16[0][0]',             \n",
      "                                                                  'dropout_23[0][0]',             \n",
      "                                                                  'dropout_22[0][0]']             \n",
      "                                                                                                  \n",
      " reshape_12 (Reshape)           (None, 20)           0           ['mean_aggregator_3[0][0]']      \n",
      "                                                                                                  \n",
      " reshape_16 (Reshape)           (None, 20)           0           ['mean_aggregator_3[1][0]']      \n",
      "                                                                                                  \n",
      " lambda_1 (Lambda)              (None, 20)           0           ['reshape_12[0][0]',             \n",
      "                                                                  'reshape_16[0][0]']             \n",
      "                                                                                                  \n",
      " link_embedding_1 (LinkEmbeddin  (None, 1)           0           ['lambda_1[0][0]',               \n",
      " g)                                                               'lambda_1[1][0]']               \n",
      "                                                                                                  \n",
      " activation_1 (Activation)      (None, 1)            0           ['link_embedding_1[0][0]']       \n",
      "                                                                                                  \n",
      " reshape_17 (Reshape)           (None, 1)            0           ['activation_1[0][0]']           \n",
      "                                                                                                  \n",
      " dense_4 (Dense)                (None, 20)           40          ['reshape_17[0][0]']             \n",
      "                                                                                                  \n",
      " dense_5 (Dense)                (None, 32)           672         ['dense_4[0][0]']                \n",
      "                                                                                                  \n",
      " dense_6 (Dense)                (None, 16)           528         ['dense_5[0][0]']                \n",
      "                                                                                                  \n",
      " dense_7 (Dense)                (None, 1)            17          ['dense_6[0][0]']                \n",
      "                                                                                                  \n",
      "==================================================================================================\n",
      "Total params: 1,737\n",
      "Trainable params: 1,737\n",
      "Non-trainable params: 0\n",
      "__________________________________________________________________________________________________\n"
     ]
    }
   ],
   "source": [
    "model.summary()"
   ]
  },
  {
   "cell_type": "code",
   "execution_count": 56,
   "id": "6c92d0e3",
   "metadata": {},
   "outputs": [
    {
     "name": "stderr",
     "output_type": "stream",
     "text": [
      "2023-05-05 18:55:46.655462: I tensorflow/core/common_runtime/executor.cc:1197] [/device:CPU:0] (DEBUG INFO) Executor start aborting (this does not indicate an error and you can ignore this message): INVALID_ARGUMENT: You must feed a value for placeholder tensor 'Placeholder/_0' with dtype int32\n",
      "\t [[{{node Placeholder/_0}}]]\n"
     ]
    },
    {
     "name": "stdout",
     "output_type": "stream",
     "text": [
      "120/120 [==============================] - 5s 31ms/step - loss: 0.6941 - acc: 0.6196\n",
      "   3/2400 [..............................] - ETA: 1:16 - loss: 0.6676 - acc: 0.9833"
     ]
    },
    {
     "name": "stderr",
     "output_type": "stream",
     "text": [
      "2023-05-05 18:55:53.097510: I tensorflow/core/common_runtime/executor.cc:1197] [/device:CPU:0] (DEBUG INFO) Executor start aborting (this does not indicate an error and you can ignore this message): INVALID_ARGUMENT: You must feed a value for placeholder tensor 'Placeholder/_0' with dtype int32\n",
      "\t [[{{node Placeholder/_0}}]]\n"
     ]
    },
    {
     "name": "stdout",
     "output_type": "stream",
     "text": [
      "2400/2400 [==============================] - 76s 32ms/step - loss: 0.6937 - acc: 0.6356\n",
      "\n",
      "Train Set Metrics of the initial (untrained) model:\n",
      "\tloss: 0.6941\n",
      "\tacc: 0.6196\n",
      "\n",
      "Test Set Metrics of the initial (untrained) model:\n",
      "\tloss: 0.6937\n",
      "\tacc: 0.6356\n"
     ]
    }
   ],
   "source": [
    "init_train_metrics = model.evaluate(train_flow)\n",
    "init_test_metrics = model.evaluate(test_flow)\n",
    "\n",
    "print(\"\\nTrain Set Metrics of the initial (untrained) model:\")\n",
    "for name, val in zip(model.metrics_names, init_train_metrics):\n",
    "    print(\"\\t{}: {:0.4f}\".format(name, val))\n",
    "\n",
    "print(\"\\nTest Set Metrics of the initial (untrained) model:\")\n",
    "for name, val in zip(model.metrics_names, init_test_metrics):\n",
    "    print(\"\\t{}: {:0.4f}\".format(name, val))"
   ]
  },
  {
   "cell_type": "code",
   "execution_count": 57,
   "id": "70b14ffe",
   "metadata": {},
   "outputs": [
    {
     "name": "stdout",
     "output_type": "stream",
     "text": [
      "Epoch 1/20\n"
     ]
    },
    {
     "name": "stderr",
     "output_type": "stream",
     "text": [
      "2023-05-05 18:57:09.547523: I tensorflow/core/common_runtime/executor.cc:1197] [/device:CPU:0] (DEBUG INFO) Executor start aborting (this does not indicate an error and you can ignore this message): INVALID_ARGUMENT: You must feed a value for placeholder tensor 'Placeholder/_0' with dtype int32\n",
      "\t [[{{node Placeholder/_0}}]]\n",
      "2023-05-05 18:57:16.516557: I tensorflow/core/common_runtime/executor.cc:1197] [/device:CPU:0] (DEBUG INFO) Executor start aborting (this does not indicate an error and you can ignore this message): INVALID_ARGUMENT: You must feed a value for placeholder tensor 'Placeholder/_0' with dtype int32\n",
      "\t [[{{node Placeholder/_0}}]]\n"
     ]
    },
    {
     "name": "stdout",
     "output_type": "stream",
     "text": [
      "120/120 - 74s - loss: 0.6804 - acc: 0.6313 - val_loss: 0.6909 - val_acc: 0.6363 - 74s/epoch - 613ms/step\n",
      "Epoch 2/20\n",
      "120/120 - 69s - loss: 0.6528 - acc: 0.6542 - val_loss: 0.6549 - val_acc: 0.6390 - 69s/epoch - 578ms/step\n",
      "Epoch 3/20\n",
      "120/120 - 68s - loss: 0.5732 - acc: 0.7400 - val_loss: 0.6023 - val_acc: 0.6387 - 68s/epoch - 566ms/step\n",
      "Epoch 4/20\n",
      "120/120 - 68s - loss: 0.4985 - acc: 0.8025 - val_loss: 0.4681 - val_acc: 0.9098 - 68s/epoch - 563ms/step\n",
      "Epoch 5/20\n",
      "120/120 - 71s - loss: 0.4216 - acc: 0.8496 - val_loss: 0.3650 - val_acc: 0.9174 - 71s/epoch - 589ms/step\n",
      "Epoch 6/20\n",
      "120/120 - 69s - loss: 0.3908 - acc: 0.8667 - val_loss: 0.3191 - val_acc: 0.9124 - 69s/epoch - 578ms/step\n",
      "Epoch 7/20\n",
      "120/120 - 68s - loss: 0.3708 - acc: 0.8750 - val_loss: 0.3906 - val_acc: 0.9060 - 68s/epoch - 569ms/step\n",
      "Epoch 8/20\n",
      "120/120 - 69s - loss: 0.3626 - acc: 0.8758 - val_loss: 0.2921 - val_acc: 0.9099 - 69s/epoch - 574ms/step\n",
      "Epoch 9/20\n",
      "120/120 - 65s - loss: 0.3720 - acc: 0.8737 - val_loss: 0.2994 - val_acc: 0.9087 - 65s/epoch - 540ms/step\n",
      "Epoch 10/20\n",
      "120/120 - 67s - loss: 0.3572 - acc: 0.8783 - val_loss: 0.2886 - val_acc: 0.9135 - 67s/epoch - 556ms/step\n",
      "Epoch 11/20\n",
      "120/120 - 71s - loss: 0.3561 - acc: 0.8796 - val_loss: 0.3061 - val_acc: 0.9053 - 71s/epoch - 593ms/step\n",
      "Epoch 12/20\n",
      "120/120 - 69s - loss: 0.3519 - acc: 0.8817 - val_loss: 0.2878 - val_acc: 0.9135 - 69s/epoch - 572ms/step\n",
      "Epoch 13/20\n",
      "120/120 - 69s - loss: 0.3644 - acc: 0.8746 - val_loss: 0.2859 - val_acc: 0.9093 - 69s/epoch - 577ms/step\n",
      "Epoch 14/20\n",
      "120/120 - 78s - loss: 0.3491 - acc: 0.8842 - val_loss: 0.2813 - val_acc: 0.9165 - 78s/epoch - 652ms/step\n",
      "Epoch 15/20\n",
      "120/120 - 72s - loss: 0.3480 - acc: 0.8821 - val_loss: 0.2862 - val_acc: 0.9097 - 72s/epoch - 604ms/step\n",
      "Epoch 16/20\n",
      "120/120 - 68s - loss: 0.3483 - acc: 0.8854 - val_loss: 0.2830 - val_acc: 0.9246 - 68s/epoch - 566ms/step\n",
      "Epoch 17/20\n",
      "120/120 - 70s - loss: 0.3612 - acc: 0.8779 - val_loss: 0.2759 - val_acc: 0.9064 - 70s/epoch - 584ms/step\n",
      "Epoch 18/20\n",
      "120/120 - 67s - loss: 0.3574 - acc: 0.8771 - val_loss: 0.2780 - val_acc: 0.9064 - 67s/epoch - 557ms/step\n",
      "Epoch 19/20\n",
      "120/120 - 67s - loss: 0.3421 - acc: 0.8892 - val_loss: 0.2674 - val_acc: 0.9162 - 67s/epoch - 557ms/step\n",
      "Epoch 20/20\n",
      "120/120 - 62s - loss: 0.3427 - acc: 0.8854 - val_loss: 0.2756 - val_acc: 0.9073 - 62s/epoch - 516ms/step\n"
     ]
    }
   ],
   "source": [
    "history = model.fit(train_flow, epochs=epochs, validation_data=test_flow, verbose=2)"
   ]
  },
  {
   "cell_type": "code",
   "execution_count": 58,
   "id": "f52f66eb",
   "metadata": {},
   "outputs": [
    {
     "data": {
      "image/png": "[encoded data removed]",
      "text/plain": [
       "<Figure size 700x800 with 2 Axes>"
      ]
     },
     "metadata": {},
     "output_type": "display_data"
    }
   ],
   "source": [
    "sg.utils.plot_history(history)"
   ]
  },
  {
   "cell_type": "code",
   "execution_count": 60,
   "id": "ed6c4dab",
   "metadata": {},
   "outputs": [
    {
     "name": "stdout",
     "output_type": "stream",
     "text": [
      "  2/120 [..............................] - ETA: 7s - loss: 0.4930 - acc: 0.7750"
     ]
    },
    {
     "name": "stderr",
     "output_type": "stream",
     "text": [
      "2023-05-05 19:20:11.534480: I tensorflow/core/common_runtime/executor.cc:1197] [/device:CPU:0] (DEBUG INFO) Executor start aborting (this does not indicate an error and you can ignore this message): INVALID_ARGUMENT: You must feed a value for placeholder tensor 'Placeholder/_0' with dtype int32\n",
      "\t [[{{node Placeholder/_0}}]]\n"
     ]
    },
    {
     "name": "stdout",
     "output_type": "stream",
     "text": [
      "120/120 [==============================] - 4s 30ms/step - loss: 0.3053 - acc: 0.8896\n",
      "   4/2400 [..............................] - ETA: 1:06 - loss: 0.2091 - acc: 0.9000"
     ]
    },
    {
     "name": "stderr",
     "output_type": "stream",
     "text": [
      "2023-05-05 19:20:15.303117: I tensorflow/core/common_runtime/executor.cc:1197] [/device:CPU:0] (DEBUG INFO) Executor start aborting (this does not indicate an error and you can ignore this message): INVALID_ARGUMENT: You must feed a value for placeholder tensor 'Placeholder/_0' with dtype int32\n",
      "\t [[{{node Placeholder/_0}}]]\n"
     ]
    },
    {
     "name": "stdout",
     "output_type": "stream",
     "text": [
      "2400/2400 [==============================] - 76s 32ms/step - loss: 0.2757 - acc: 0.9072\n",
      "\n",
      "Train Set Metrics of the trained model:\n",
      "\tloss: 0.3053\n",
      "\tacc: 0.8896\n",
      "\n",
      "Test Set Metrics of the trained model:\n",
      "\tloss: 0.2757\n",
      "\tacc: 0.9072\n"
     ]
    }
   ],
   "source": [
    "train_metrics = model.evaluate(train_flow)\n",
    "test_metrics = model.evaluate(test_flow)\n",
    "\n",
    "print(\"\\nTrain Set Metrics of the trained model:\")\n",
    "for name, val in zip(model.metrics_names, train_metrics):\n",
    "    print(\"\\t{}: {:0.4f}\".format(name, val))\n",
    "\n",
    "print(\"\\nTest Set Metrics of the trained model:\")\n",
    "for name, val in zip(model.metrics_names, test_metrics):\n",
    "    print(\"\\t{}: {:0.4f}\".format(name, val))"
   ]
  },
  {
   "cell_type": "code",
   "execution_count": 61,
   "id": "dfdffb17",
   "metadata": {},
   "outputs": [
    {
     "name": "stderr",
     "output_type": "stream",
     "text": [
      "2023-05-05 19:22:22.040547: I tensorflow/core/common_runtime/executor.cc:1197] [/device:CPU:0] (DEBUG INFO) Executor start aborting (this does not indicate an error and you can ignore this message): INVALID_ARGUMENT: You must feed a value for placeholder tensor 'Placeholder/_0' with dtype int32\n",
      "\t [[{{node Placeholder/_0}}]]\n"
     ]
    },
    {
     "name": "stdout",
     "output_type": "stream",
     "text": [
      "2400/2400 [==============================] - 73s 30ms/step\n"
     ]
    }
   ],
   "source": [
    "import numpy as np\n",
    "from sklearn.metrics import confusion_matrix, roc_curve, auc\n",
    "import matplotlib.pyplot as plt\n",
    "import itertools\n",
    "\n",
    "# Get the labels of the entire test set\n",
    "y_true = np.concatenate([test_flow[i][1] for i in range(len(test_flow))])\n",
    "\n",
    "# Predict the labels for the same set\n",
    "y_pred = model.predict(test_flow)\n",
    "\n",
    "\n",
    "# Compute the confusion matrix\n",
    "cm = confusion_matrix(y_true, np.round(y_pred))\n",
    "\n",
    "# Compute the ROC curve and AUC score\n",
    "fpr, tpr, thresholds = roc_curve(y_true, y_pred)\n",
    "roc_auc = auc(fpr, tpr)"
   ]
  },
  {
   "cell_type": "code",
   "execution_count": 62,
   "id": "7c9487ba",
   "metadata": {},
   "outputs": [
    {
     "data": {
      "image/png": "[encoded data removed]",
      "text/plain": [
       "<Figure size 500x500 with 2 Axes>"
      ]
     },
     "metadata": {},
     "output_type": "display_data"
    }
   ],
   "source": [
    "# Plot the confusion matrix\n",
    "plt.figure(figsize=(5, 5))\n",
    "plt.imshow(cm, interpolation='nearest', cmap=plt.cm.Blues,label = True)\n",
    "plt.title('Confusion matrix')\n",
    "plt.colorbar()\n",
    "fmt = 'd'\n",
    "thresh = cm.max() / 2.\n",
    "for i, j in itertools.product(range(cm.shape[0]), range(cm.shape[1])):\n",
    "    plt.text(j, i, format(cm[i, j], fmt),\n",
    "             horizontalalignment=\"center\",\n",
    "             color=\"white\" if cm[i, j] > thresh else \"black\")\n",
    "tick_marks = np.arange(2)\n",
    "plt.xticks(tick_marks, ['0', '1'])\n",
    "plt.yticks(tick_marks, ['0', '1'])\n",
    "plt.xlabel('Predicted label')\n",
    "plt.ylabel('True label')\n",
    "plt.tight_layout()"
   ]
  },
  {
   "cell_type": "code",
   "execution_count": 63,
   "id": "bed460cb",
   "metadata": {},
   "outputs": [
    {
     "data": {
      "image/png": "[encoded data removed]",
      "text/plain": [
       "<Figure size 600x600 with 1 Axes>"
      ]
     },
     "metadata": {},
     "output_type": "display_data"
    }
   ],
   "source": [
    "# Plot the ROC curve\n",
    "plt.figure(figsize=(6, 6))\n",
    "plt.plot(fpr, tpr, label='ROC curve (area = %0.2f)' % roc_auc)\n",
    "plt.plot([0, 1], [0, 1], 'k--')\n",
    "plt.xlim([0.0, 1.0])\n",
    "plt.ylim([0.0, 1.05])\n",
    "plt.xlabel('False Positive Rate')\n",
    "plt.ylabel('True Positive Rate')\n",
    "plt.title('Receiver operating characteristic')\n",
    "plt.legend(loc=\"lower right\")\n",
    "plt.show()"
   ]
  },
  {
   "cell_type": "code",
   "execution_count": 64,
   "id": "f2121cf4",
   "metadata": {},
   "outputs": [],
   "source": [
    "# Save your GNN model\n",
    "path = \"Model_\"+str(edges_considered)+\".h5\"\n",
    "model.save(path)"
   ]
  },
  {
   "cell_type": "code",
   "execution_count": 1,
   "id": "df657f8e",
   "metadata": {},
   "outputs": [],
   "source": [
    "import pandas as pd\n",
    "import networkx as nx\n",
    "from sklearn.metrics.pairwise import cosine_similarity\n",
    "from sklearn.ensemble import RandomForestRegressor\n",
    "\n",
    "# Load the dataset into a pandas DataFrame\n",
    "df = pd.read_csv(\"ratings.csv\")\n",
    "df = df[:20000]\n",
    "\n",
    "# Create a directed graph of users and products\n",
    "G = nx.DiGraph()\n",
    "\n",
    "# Add edges between users and products, with the ratings as weights\n",
    "for _, row in df.iterrows():\n",
    "    user_id = row[\"UserId\"]\n",
    "    product_id = row[\"ProudctId\"]\n",
    "    rating = row[\"Rating\"]\n",
    "    G.add_edge(user_id, product_id, weight=rating)\n",
    "\n",
    "# Calculate the PageRank centrality for each product in the graph\n",
    "product_pageranks = nx.pagerank(G, weight='weight')\n",
    "\n",
    "# Calculate the weighted cosine similarity between each pair of nodes in the graph\n",
    "similarity_matrix = cosine_similarity(nx.to_numpy_array(G), dense_output=True)\n"
   ]
  },
  {
   "cell_type": "code",
   "execution_count": 2,
   "id": "8d51fc5c",
   "metadata": {},
   "outputs": [
    {
     "data": {
      "image/png": "[encoded data removed]",
      "text/plain": [
       "<Figure size 640x480 with 2 Axes>"
      ]
     },
     "metadata": {},
     "output_type": "display_data"
    }
   ],
   "source": [
    "import seaborn as sns\n",
    "import matplotlib.pyplot as plt\n",
    "sns.set(style=\"white\")\n",
    "sns.heatmap(similarity_matrix, cmap=\"YlGnBu\")\n",
    "plt.show()"
   ]
  },
  {
   "cell_type": "code",
   "execution_count": 3,
   "id": "9ed61ad5",
   "metadata": {},
   "outputs": [
    {
     "name": "stdout",
     "output_type": "stream",
     "text": [
      "Top 3 recommended products for user A2UVFEZ7UDBRAA: ['B00000JLSJ', 'B00000J3NE', 'B00000J3G2']\n"
     ]
    }
   ],
   "source": [
    "# Train a random forest regressor on the data, using both the PageRank centrality and the weighted cosine similarity as features\n",
    "train_data = []\n",
    "for _, row in df.iterrows():\n",
    "    user_id = row[\"UserId\"]\n",
    "    product_id = row[\"ProudctId\"]\n",
    "    rating = row[\"Rating\"]\n",
    "    pagerank = product_pageranks[product_id]\n",
    "    similarity = similarity_matrix[list(G.nodes()).index(user_id)][list(G.nodes()).index(product_id)]\n",
    "    train_data.append([pagerank, similarity, rating])\n",
    "\n",
    "train_df = pd.DataFrame(train_data, columns=['pagerank', 'similarity', 'rating'])\n",
    "X_train = train_df[['pagerank', 'similarity']]\n",
    "y_train = train_df['rating']\n",
    "rf = RandomForestRegressor(n_estimators=100)\n",
    "rf.fit(X_train, y_train)\n",
    "\n",
    "# Make recommendations for a given user\n",
    "user_id = 'A2UVFEZ7UDBRAA'\n",
    "user_items = df[df[\"UserId\"] == user_id][\"ProudctId\"]\n",
    "all_items = df[\"ProudctId\"].unique()\n",
    "\n",
    "# Remove the items already rated by the user\n",
    "items_to_predict = list(set(all_items) - set(user_items))\n",
    "\n",
    "# Predict ratings for the items the user has not yet rated\n",
    "test_data = []\n",
    "for item_id in items_to_predict:\n",
    "    pagerank = product_pageranks[item_id]\n",
    "    similarity = similarity_matrix[list(G.nodes()).index(user_id)][list(G.nodes()).index(item_id)]\n",
    "    test_data.append([pagerank, similarity])\n",
    "\n",
    "test_df = pd.DataFrame(test_data, columns=['pagerank', 'similarity'])\n",
    "predictions = rf.predict(test_df)\n",
    "\n",
    "# Sort the predictions in descending order by predicted rating\n",
    "recommended_products = [item_id for _, item_id in sorted(zip(predictions, items_to_predict), reverse=True)][:3]\n",
    "\n",
    "print(\"Top 3 recommended products for user {}: {}\".format(user_id, recommended_products))"
   ]
  },
  {
   "cell_type": "code",
   "execution_count": null,
   "id": "c0184ecd",
   "metadata": {},
   "outputs": [],
   "source": []
  }
 ],
 "metadata": {
  "kernelspec": {
   "display_name": "venv - CS286",
   "language": "python",
   "name": "venv"
  },
  "language_info": {
   "codemirror_mode": {
    "name": "ipython",
    "version": 3
   },
   "file_extension": ".py",
   "mimetype": "text/x-python",
   "name": "python",
   "nbconvert_exporter": "python",
   "pygments_lexer": "ipython3",
   "version": "3.8.9"
  }
 },
 "nbformat": 4,
 "nbformat_minor": 5
}
